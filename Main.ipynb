{
 "cells": [
  {
   "cell_type": "markdown",
   "metadata": {},
   "source": [
    "# CIS Server"
   ]
  },
  {
   "cell_type": "code",
   "execution_count": 2,
   "metadata": {},
   "outputs": [],
   "source": [
    "from flask import Flask\n",
    "from flask import Response\n",
    "import json\n",
    "from datetime import datetime\n"
   ]
  },
  {
   "cell_type": "code",
   "execution_count": 10,
   "metadata": {},
   "outputs": [
    {
     "name": "stdout",
     "output_type": "stream",
     "text": [
      "{\"User\": [{\"SSID\": \"0\", \"Name\": \"蔣志成\", \"Birth\": \"1998年1月27號\"}, {\"SSID\": \"1\", \"Name\": \"蔣測試\", \"Birth\": \"1998年2月27號\"}, {\"SSID\": \"2\", \"Name\": \"蔣測王\", \"Birth\": \"1998年2月27號\"}, {\"SSID\": \"3\", \"Name\": \"蔣測黃\", \"Birth\": \"1998年2月27號\"}, {\"SSID\": \"4\", \"Name\": \"蔣測一\", \"Birth\": \"1998年2月27號\"}, {\"SSID\": \"5\", \"Name\": \"蔣志成\", \"Birth\": \"1997年1月27號\"}, {\"SSID\": \"6\", \"Name\": \"洪成志\", \"Birth\": \"1992年2月16號\"}, {\"SSID\": \"7\", \"Name\": \"銅製程\", \"Birth\": \"1992年2月16號\"}, {\"SSID\": \"8\", \"Name\": \"恆陳志\", \"Birth\": \"1992年2月16號\"}, {\"SSID\": \"9\", \"Name\": \"洪成志\", \"Birth\": \"1992年2月12號\"}, {\"SSID\": \"10\", \"Name\": \"航程至\", \"Birth\": \"1992年2月10號\"}, {\"SSID\": \"11\", \"Name\": \"黃成智\", \"Birth\": \"1992年2月16號\"}]}\n",
      "{'User': [{'SSID': '0', 'Name': '蔣志成', 'Birth': '1998年1月27號'}, {'SSID': '1', 'Name': '蔣測試', 'Birth': '1998年2月27號'}, {'SSID': '2', 'Name': '蔣測王', 'Birth': '1998年2月27號'}, {'SSID': '3', 'Name': '蔣測黃', 'Birth': '1998年2月27號'}, {'SSID': '4', 'Name': '蔣測一', 'Birth': '1998年2月27號'}, {'SSID': '5', 'Name': '蔣志成', 'Birth': '1997年1月27號'}, {'SSID': '6', 'Name': '洪成志', 'Birth': '1992年2月16號'}, {'SSID': '7', 'Name': '銅製程', 'Birth': '1992年2月16號'}, {'SSID': '8', 'Name': '恆陳志', 'Birth': '1992年2月16號'}, {'SSID': '9', 'Name': '洪成志', 'Birth': '1992年2月12號'}, {'SSID': '10', 'Name': '航程至', 'Birth': '1992年2月10號'}, {'SSID': '11', 'Name': '黃成智', 'Birth': '1992年2月16號'}]}\n",
      "{\"Issues\": [{\"SSID\": \"6\", \"Time\": \"1998年2月27號\", \"Issue\": \"胃痛\"}, {\"SSID\": \"1\", \"Time\": \"1998年2月27號\", \"Issue\": \"胃痛123\"}, {\"SSID\": \"1\", \"Time\": \"1998年2月27號\", \"Issue\": \"胃痛456\"}, {\"SSID\": \"6\", \"Time\": \"1998年2月27號\", \"Issue\": \"胃痛7889\"}, {\"SSID\": \"6\", \"Time\": \"2021年08月05號\", \"Issue\": \"胃痛、頭暈\"}, {\"SSID\": \"6\", \"Time\": \"2021年08月05號\", \"Issue\": \"胃痛、嘔吐、嘔吐、\"}, {\"SSID\": \"6\", \"Time\": \"2021年08月05號\", \"Issue\": \"\"}, {\"SSID\": \"1\", \"Time\": \"2021年08月05號\", \"Issue\": \"\"}, {\"SSID\": \"6\", \"Time\": \"2021年08月05號\", \"Issue\": \"胃痛、暈眩、\"}, {\"SSID\": \"6\", \"Time\": \"2021年08月05號\", \"Issue\": \"胃痛、暈眩、\"}, {\"SSID\": \"6\", \"Time\": \"2021年08月05號\", \"Issue\": \"胃痛、暈眩、\"}, {\"SSID\": \"6\", \"Time\": \"2021年08月05號\", \"Issue\": \"胃痛、暈眩、\"}, {\"SSID\": \"6\", \"Time\": \"2021年08月05號\", \"Issue\": \"嘔吐、嘔吐、\"}, {\"SSID\": \"6\", \"Time\": \"2021年08月05號\", \"Issue\": \"胃痛、暈眩、\"}, {\"SSID\": \"6\", \"Time\": \"2021年08月05號\", \"Issue\": \"胃痛、暈眩、\"}, {\"SSID\": \"6\", \"Time\": \"2021年08月05號\", \"Issue\": \"胃痛、暈眩\"}, {\"SSID\": \"6\", \"Time\": \"2021年09月21號\", \"Issue\": \"腹瀉、\"}, {\"SSID\": \"6\", \"Time\": \"2021年09月21號\", \"Issue\": \"腹瀉、\"}, {\"SSID\": \"6\", \"Time\": \"2021年09月21號\", \"Issue\": \"腹瀉、\"}, {\"SSID\": \"6\", \"Time\": \"2021年09月21號\", \"Issue\": \"腹瀉、\"}, {\"SSID\": \"6\", \"Time\": \"2021年09月21號\", \"Issue\": \"腹瀉、\"}, {\"SSID\": \"6\", \"Time\": \"2021年09月21號\", \"Issue\": \"腹瀉、\"}, {\"SSID\": \"6\", \"Time\": \"2021年09月21號\", \"Issue\": \"腹瀉、\"}, {\"SSID\": \"9\", \"Time\": \"2021年09月21號\", \"Issue\": \"腹瀉、\"}, {\"SSID\": \"6\", \"Time\": \"2021年09月21號\", \"Issue\": \"腹瀉、暈眩、\"}, {\"SSID\": \"6\", \"Time\": \"2021年09月21號\", \"Issue\": \"腹瀉、\"}, {\"SSID\": \"6\", \"Time\": \"2021年09月21號\", \"Issue\": \"暈眩、\"}, {\"SSID\": \"9\", \"Time\": \"2021年09月21號\", \"Issue\": \"腹瀉、\"}, {\"SSID\": \"10\", \"Time\": \"2021年09月21號\", \"Issue\": \"腹瀉、\"}, {\"SSID\": \"6\", \"Time\": \"2021年09月21號\", \"Issue\": \"腹瀉、\"}, {\"SSID\": \"11\", \"Time\": \"2021年09月21號\", \"Issue\": \"腹瀉、\"}, {\"SSID\": \"11\", \"Time\": \"2021年09月21號\", \"Issue\": \"腹瀉、\"}]}\n",
      "{'Issues': [{'SSID': '6', 'Time': '1998年2月27號', 'Issue': '胃痛'}, {'SSID': '1', 'Time': '1998年2月27號', 'Issue': '胃痛123'}, {'SSID': '1', 'Time': '1998年2月27號', 'Issue': '胃痛456'}, {'SSID': '6', 'Time': '1998年2月27號', 'Issue': '胃痛7889'}, {'SSID': '6', 'Time': '2021年08月05號', 'Issue': '胃痛、頭暈'}, {'SSID': '6', 'Time': '2021年08月05號', 'Issue': '胃痛、嘔吐、嘔吐、'}, {'SSID': '6', 'Time': '2021年08月05號', 'Issue': ''}, {'SSID': '1', 'Time': '2021年08月05號', 'Issue': ''}, {'SSID': '6', 'Time': '2021年08月05號', 'Issue': '胃痛、暈眩、'}, {'SSID': '6', 'Time': '2021年08月05號', 'Issue': '胃痛、暈眩、'}, {'SSID': '6', 'Time': '2021年08月05號', 'Issue': '胃痛、暈眩、'}, {'SSID': '6', 'Time': '2021年08月05號', 'Issue': '胃痛、暈眩、'}, {'SSID': '6', 'Time': '2021年08月05號', 'Issue': '嘔吐、嘔吐、'}, {'SSID': '6', 'Time': '2021年08月05號', 'Issue': '胃痛、暈眩、'}, {'SSID': '6', 'Time': '2021年08月05號', 'Issue': '胃痛、暈眩、'}, {'SSID': '6', 'Time': '2021年08月05號', 'Issue': '胃痛、暈眩'}, {'SSID': '6', 'Time': '2021年09月21號', 'Issue': '腹瀉、'}, {'SSID': '6', 'Time': '2021年09月21號', 'Issue': '腹瀉、'}, {'SSID': '6', 'Time': '2021年09月21號', 'Issue': '腹瀉、'}, {'SSID': '6', 'Time': '2021年09月21號', 'Issue': '腹瀉、'}, {'SSID': '6', 'Time': '2021年09月21號', 'Issue': '腹瀉、'}, {'SSID': '6', 'Time': '2021年09月21號', 'Issue': '腹瀉、'}, {'SSID': '6', 'Time': '2021年09月21號', 'Issue': '腹瀉、'}, {'SSID': '9', 'Time': '2021年09月21號', 'Issue': '腹瀉、'}, {'SSID': '6', 'Time': '2021年09月21號', 'Issue': '腹瀉、暈眩、'}, {'SSID': '6', 'Time': '2021年09月21號', 'Issue': '腹瀉、'}, {'SSID': '6', 'Time': '2021年09月21號', 'Issue': '暈眩、'}, {'SSID': '9', 'Time': '2021年09月21號', 'Issue': '腹瀉、'}, {'SSID': '10', 'Time': '2021年09月21號', 'Issue': '腹瀉、'}, {'SSID': '6', 'Time': '2021年09月21號', 'Issue': '腹瀉、'}, {'SSID': '11', 'Time': '2021年09月21號', 'Issue': '腹瀉、'}, {'SSID': '11', 'Time': '2021年09月21號', 'Issue': '腹瀉、'}]}\n",
      " * Serving Flask app \"__main__\" (lazy loading)\n",
      " * Environment: production\n",
      "   WARNING: This is a development server. Do not use it in a production deployment.\n",
      "   Use a production WSGI server instead.\n",
      " * Debug mode: off\n"
     ]
    },
    {
     "name": "stderr",
     "output_type": "stream",
     "text": [
      " * Running on http://0.0.0.0:3000/ (Press CTRL+C to quit)\n"
     ]
    }
   ],
   "source": [
    "app = Flask(__name__)\n",
    "data = {}\n",
    "issue_data = {}\n",
    "\n",
    "def writeIssueDataBase():\n",
    "    with open('./issue.json','w') as file:\n",
    "        global issue_data\n",
    "        file.write(json.dumps(issue_data,ensure_ascii=False))\n",
    "    readIssueDataBase()\n",
    "\n",
    "def writeDataBase():\n",
    "    with open('./user.json','w') as file:\n",
    "        global data\n",
    "        file.write(json.dumps(data,ensure_ascii=False))\n",
    "    readDataBase()\n",
    "\n",
    "# def readIssueDataBase():\n",
    "#     with open('./issue.json','r') as file:\n",
    "#         global issue_data\n",
    "#         print(file.read())\n",
    "#         issue_data = json.loads(file.read())\n",
    "#         print(issue_data)\n",
    "\n",
    "def readIssueDataBase():\n",
    "    with open('./issue.json','r') as file:\n",
    "        global issue_data\n",
    "        readdata = file.read()\n",
    "        print(readdata)\n",
    "        data = json.loads(readdata)\n",
    "#         issue_data = json.loads(file.read())\n",
    "#         print(issue_data)\n",
    "        issue_data = data\n",
    "        print(issue_data)\n",
    "        \n",
    "def readDataBase():\n",
    "    with open('./user.json','r') as file:\n",
    "        global data\n",
    "        readdata = file.read()\n",
    "        print(readdata)\n",
    "        data = json.loads(readdata)\n",
    "        print(data)\n",
    "\n",
    "@app.route('/')\n",
    "def index():\n",
    "    return 'index'\n",
    "\n",
    "# birthAndName = 1998年1月27號,蔣志成\n",
    "@app.route('/getHistoryIssue/<birthAndName>')\n",
    "def getHistoryIssue(birthAndName):\n",
    "    global issue_data , data\n",
    "    birth , name = birthAndName.split(',')\n",
    "    ssid = \"\"\n",
    "    for inside_json in data[\"User\"]:\n",
    "        if(inside_json[\"Name\"] == name and inside_json[\"Birth\"] == birth):\n",
    "            ssid = inside_json[\"SSID\"]\n",
    "            break\n",
    "    if(ssid == \"\"):\n",
    "        data[\"User\"].append({\"SSID\": str(len(data[\"User\"])),\"Name\": name,\"Birth\": birth})\n",
    "        #write data base\n",
    "        writeDataBase()\n",
    "        result = {}\n",
    "        result[\"result\"]=[]\n",
    "        return json.dumps(result,ensure_ascii=False)\n",
    "    result = {}\n",
    "    result[\"result\"]=[]\n",
    "    count = 0\n",
    "    for issue in issue_data[\"Issues\"]:\n",
    "        if(issue[\"SSID\"] == ssid):\n",
    "            result[\"result\"].append({\"Time\":issue[\"Time\"],\"Issue\":issue[\"Issue\"]})\n",
    "            count += 1\n",
    "#         if(count == 3):\n",
    "#             break\n",
    "    print(ssid)\n",
    "    print(result[\"result\"])\n",
    "    result[\"result\"] = result[\"result\"][-3:]\n",
    "    return json.dumps(result,ensure_ascii=False)\n",
    "\n",
    "@app.route('/newIssue/<birthAndNameandIssue>')\n",
    "def newIssue(birthAndNameandIssue):\n",
    "    global issue_data , data\n",
    "    now = datetime.now()\n",
    "    birth , name , issue = birthAndNameandIssue.split(',')\n",
    "    ssid = \"\"\n",
    "    print(\"step 1\")\n",
    "    for inside_json in data[\"User\"]:\n",
    "        if(inside_json[\"Name\"] == name and inside_json[\"Birth\"] == birth):\n",
    "            ssid = inside_json[\"SSID\"]\n",
    "            break\n",
    "    if(ssid == \"\"):\n",
    "        return None\n",
    "    print(\"step 2\")\n",
    "    year = now.strftime(\"%Y\")\n",
    "    month = now.strftime(\"%m\")\n",
    "    day = now.strftime(\"%d\")\n",
    "    date_time=year+\"年\"+month+\"月\"+day+\"號\"\n",
    "    issue_data[\"Issues\"].append({\"SSID\":ssid,\"Time\":date_time,\"Issue\":issue})\n",
    "    print(\"step 3\")\n",
    "    print(issue_data)\n",
    "    writeIssueDataBase()\n",
    "    print(\"step 4\")\n",
    "    return \"Success\" ,200\n",
    "    \n",
    "if(__name__ == \"__main__\"):\n",
    "    readDataBase()\n",
    "    readIssueDataBase()\n",
    "    app.run(host=\"0.0.0.0\",port=3000)\n",
    "    "
   ]
  },
  {
   "cell_type": "code",
   "execution_count": 6,
   "metadata": {},
   "outputs": [
    {
     "name": "stdout",
     "output_type": "stream",
     "text": [
      "{\n",
      "  \"User\": [\n",
      "    {\n",
      "      \"SSID\": \"0\",\n",
      "      \"Name\": \"蔣志成\",\n",
      "      \"Birth\": \"1998年1月27號\"\n",
      "    },\n",
      "    {\n",
      "      \"SSID\": \"1\",\n",
      "      \"Name\": \"蔣測試\",\n",
      "      \"Birth\": \"1998年2月27號\"\n",
      "    }\n",
      "  ]\n",
      "}\n"
     ]
    }
   ],
   "source": [
    "with open('./user.json','r') as file:\n",
    "    print(file.read())"
   ]
  },
  {
   "cell_type": "code",
   "execution_count": 12,
   "metadata": {},
   "outputs": [],
   "source": [
    "data = {}\n",
    "\n",
    "def readDataBase():\n",
    "    with open('./user.json','r') as file:\n",
    "        global data\n",
    "        data = json.loads(file.read())\n",
    "        print(data)"
   ]
  },
  {
   "cell_type": "code",
   "execution_count": 13,
   "metadata": {},
   "outputs": [
    {
     "name": "stdout",
     "output_type": "stream",
     "text": [
      "{'User': [{'SSID': '0', 'Name': '蔣志成', 'Birth': '1998年1月27號'}, {'SSID': '1', 'Name': '蔣測試', 'Birth': '1998年2月27號'}]}\n"
     ]
    }
   ],
   "source": [
    "readDataBase()"
   ]
  },
  {
   "cell_type": "code",
   "execution_count": 14,
   "metadata": {},
   "outputs": [
    {
     "data": {
      "text/plain": [
       "{'User': [{'SSID': '0', 'Name': '蔣志成', 'Birth': '1998年1月27號'},\n",
       "  {'SSID': '1', 'Name': '蔣測試', 'Birth': '1998年2月27號'}]}"
      ]
     },
     "execution_count": 14,
     "metadata": {},
     "output_type": "execute_result"
    }
   ],
   "source": [
    "data"
   ]
  },
  {
   "cell_type": "code",
   "execution_count": 5,
   "metadata": {},
   "outputs": [],
   "source": [
    "issue_data = {}\n",
    "\n",
    "def readIssueDataBase():\n",
    "    with open('./issue.json','r') as file:\n",
    "        global issue_data\n",
    "        \n",
    "        issue_data = json.loads(file.read())\n",
    "        print(issue_data)"
   ]
  },
  {
   "cell_type": "code",
   "execution_count": 6,
   "metadata": {},
   "outputs": [
    {
     "name": "stdout",
     "output_type": "stream",
     "text": [
      "{'Issues': [{'SSID': '6', 'Time': '1998年2月27號', 'Issue': '胃痛'}, {'SSID': '1', 'Time': '1998年2月27號', 'Issue': '胃痛123'}, {'SSID': '1', 'Time': '1998年2月27號', 'Issue': '胃痛456'}, {'SSID': '6', 'Time': '1998年2月27號', 'Issue': '胃痛7889'}, {'SSID': '6', 'Time': '2021年08月05號', 'Issue': '胃痛、頭暈'}, {'SSID': '6', 'Time': '2021年08月05號', 'Issue': '胃痛、嘔吐、嘔吐、'}, {'SSID': '6', 'Time': '2021年08月05號', 'Issue': ''}, {'SSID': '1', 'Time': '2021年08月05號', 'Issue': ''}, {'SSID': '6', 'Time': '2021年08月05號', 'Issue': '胃痛、暈眩、'}, {'SSID': '6', 'Time': '2021年08月05號', 'Issue': '胃痛、暈眩、'}, {'SSID': '6', 'Time': '2021年08月05號', 'Issue': '胃痛、暈眩、'}, {'SSID': '6', 'Time': '2021年08月05號', 'Issue': '胃痛、暈眩、'}, {'SSID': '6', 'Time': '2021年08月05號', 'Issue': '嘔吐、嘔吐、'}, {'SSID': '6', 'Time': '2021年08月05號', 'Issue': '胃痛、暈眩、'}, {'SSID': '6', 'Time': '2021年08月05號', 'Issue': '胃痛、暈眩、'}, {'SSID': '6', 'Time': '2021年08月05號', 'Issue': '胃痛、暈眩'}]}\n"
     ]
    }
   ],
   "source": [
    "readIssueDataBase()"
   ]
  },
  {
   "cell_type": "code",
   "execution_count": 7,
   "metadata": {},
   "outputs": [
    {
     "data": {
      "text/plain": [
       "{'Issues': [{'SSID': '6', 'Time': '1998年2月27號', 'Issue': '胃痛'},\n",
       "  {'SSID': '1', 'Time': '1998年2月27號', 'Issue': '胃痛123'},\n",
       "  {'SSID': '1', 'Time': '1998年2月27號', 'Issue': '胃痛456'},\n",
       "  {'SSID': '6', 'Time': '1998年2月27號', 'Issue': '胃痛7889'},\n",
       "  {'SSID': '6', 'Time': '2021年08月05號', 'Issue': '胃痛、頭暈'},\n",
       "  {'SSID': '6', 'Time': '2021年08月05號', 'Issue': '胃痛、嘔吐、嘔吐、'},\n",
       "  {'SSID': '6', 'Time': '2021年08月05號', 'Issue': ''},\n",
       "  {'SSID': '1', 'Time': '2021年08月05號', 'Issue': ''},\n",
       "  {'SSID': '6', 'Time': '2021年08月05號', 'Issue': '胃痛、暈眩、'},\n",
       "  {'SSID': '6', 'Time': '2021年08月05號', 'Issue': '胃痛、暈眩、'},\n",
       "  {'SSID': '6', 'Time': '2021年08月05號', 'Issue': '胃痛、暈眩、'},\n",
       "  {'SSID': '6', 'Time': '2021年08月05號', 'Issue': '胃痛、暈眩、'},\n",
       "  {'SSID': '6', 'Time': '2021年08月05號', 'Issue': '嘔吐、嘔吐、'},\n",
       "  {'SSID': '6', 'Time': '2021年08月05號', 'Issue': '胃痛、暈眩、'},\n",
       "  {'SSID': '6', 'Time': '2021年08月05號', 'Issue': '胃痛、暈眩、'},\n",
       "  {'SSID': '6', 'Time': '2021年08月05號', 'Issue': '胃痛、暈眩'}]}"
      ]
     },
     "execution_count": 7,
     "metadata": {},
     "output_type": "execute_result"
    }
   ],
   "source": [
    "issue_data"
   ]
  },
  {
   "cell_type": "code",
   "execution_count": 44,
   "metadata": {},
   "outputs": [],
   "source": [
    "now = datetime.now()"
   ]
  },
  {
   "cell_type": "code",
   "execution_count": 47,
   "metadata": {},
   "outputs": [
    {
     "name": "stdout",
     "output_type": "stream",
     "text": [
      "2021/08/05\n"
     ]
    }
   ],
   "source": [
    "date_time = now.strftime(\"%Y/%m/%d\")\n",
    "print(date_time)"
   ]
  },
  {
   "cell_type": "code",
   "execution_count": 46,
   "metadata": {},
   "outputs": [
    {
     "name": "stdout",
     "output_type": "stream",
     "text": [
      "year: 2021\n",
      "month: 08\n",
      "day: 05\n"
     ]
    }
   ],
   "source": [
    "year = now.strftime(\"%Y\")\n",
    "month = now.strftime(\"%m\")\n",
    "day = now.strftime(\"%d\")\n",
    "print(year+\"年\"+month+\"月\")"
   ]
  },
  {
   "cell_type": "code",
   "execution_count": 3,
   "metadata": {},
   "outputs": [
    {
     "name": "stdout",
     "output_type": "stream",
     "text": [
      "{\"User\": [{\"SSID\": \"0\", \"Name\": \"蔣志成\", \"Birth\": \"1998年1月27號\"}, {\"SSID\": \"1\", \"Name\": \"蔣測試\", \"Birth\": \"1998年2月27號\"}, {\"SSID\": \"2\", \"Name\": \"蔣測王\", \"Birth\": \"1998年2月27號\"}, {\"SSID\": \"3\", \"Name\": \"蔣測黃\", \"Birth\": \"1998年2月27號\"}, {\"SSID\": \"4\", \"Name\": \"蔣測一\", \"Birth\": \"1998年2月27號\"}, {\"SSID\": \"5\", \"Name\": \"蔣志成\", \"Birth\": \"1997年1月27號\"}, {\"SSID\": \"6\", \"Name\": \"洪成志\", \"Birth\": \"1992年2月16號\"}]}\n",
      "{'User': [{'SSID': '0', 'Name': '蔣志成', 'Birth': '1998年1月27號'}, {'SSID': '1', 'Name': '蔣測試', 'Birth': '1998年2月27號'}, {'SSID': '2', 'Name': '蔣測王', 'Birth': '1998年2月27號'}, {'SSID': '3', 'Name': '蔣測黃', 'Birth': '1998年2月27號'}, {'SSID': '4', 'Name': '蔣測一', 'Birth': '1998年2月27號'}, {'SSID': '5', 'Name': '蔣志成', 'Birth': '1997年1月27號'}, {'SSID': '6', 'Name': '洪成志', 'Birth': '1992年2月16號'}]}\n"
     ]
    }
   ],
   "source": [
    "readDataBase()"
   ]
  },
  {
   "cell_type": "code",
   "execution_count": 4,
   "metadata": {},
   "outputs": [
    {
     "name": "stdout",
     "output_type": "stream",
     "text": [
      "{\"Issues\": [{\"SSID\": \"6\", \"Time\": \"1998年2月27號\", \"Issue\": \"胃痛\"}, {\"SSID\": \"1\", \"Time\": \"1998年2月27號\", \"Issue\": \"胃痛123\"}, {\"SSID\": \"1\", \"Time\": \"1998年2月27號\", \"Issue\": \"胃痛456\"}, {\"SSID\": \"6\", \"Time\": \"1998年2月27號\", \"Issue\": \"胃痛7889\"}, {\"SSID\": \"6\", \"Time\": \"2021年08月05號\", \"Issue\": \"胃痛、頭暈\"}, {\"SSID\": \"6\", \"Time\": \"2021年08月05號\", \"Issue\": \"胃痛、嘔吐、嘔吐、\"}, {\"SSID\": \"6\", \"Time\": \"2021年08月05號\", \"Issue\": \"\"}, {\"SSID\": \"1\", \"Time\": \"2021年08月05號\", \"Issue\": \"\"}, {\"SSID\": \"6\", \"Time\": \"2021年08月05號\", \"Issue\": \"胃痛、暈眩、\"}, {\"SSID\": \"6\", \"Time\": \"2021年08月05號\", \"Issue\": \"胃痛、暈眩、\"}, {\"SSID\": \"6\", \"Time\": \"2021年08月05號\", \"Issue\": \"胃痛、暈眩、\"}, {\"SSID\": \"6\", \"Time\": \"2021年08月05號\", \"Issue\": \"胃痛、暈眩、\"}, {\"SSID\": \"6\", \"Time\": \"2021年08月05號\", \"Issue\": \"嘔吐、嘔吐、\"}, {\"SSID\": \"6\", \"Time\": \"2021年08月05號\", \"Issue\": \"胃痛、暈眩、\"}, {\"SSID\": \"6\", \"Time\": \"2021年08月05號\", \"Issue\": \"胃痛、暈眩、\"}, {\"SSID\": \"6\", \"Time\": \"2021年08月05號\", \"Issue\": \"胃痛、暈眩\"}]}\n"
     ]
    },
    {
     "ename": "JSONDecodeError",
     "evalue": "Expecting value: line 1 column 1 (char 0)",
     "output_type": "error",
     "traceback": [
      "\u001b[1;31m---------------------------------------------------------------------------\u001b[0m",
      "\u001b[1;31mJSONDecodeError\u001b[0m                           Traceback (most recent call last)",
      "\u001b[1;32m<ipython-input-4-0fe6f3256fb3>\u001b[0m in \u001b[0;36m<module>\u001b[1;34m\u001b[0m\n\u001b[1;32m----> 1\u001b[1;33m \u001b[0mreadIssueDataBase\u001b[0m\u001b[1;33m(\u001b[0m\u001b[1;33m)\u001b[0m\u001b[1;33m\u001b[0m\u001b[1;33m\u001b[0m\u001b[0m\n\u001b[0m",
      "\u001b[1;32m<ipython-input-2-ed5fc541ea11>\u001b[0m in \u001b[0;36mreadIssueDataBase\u001b[1;34m()\u001b[0m\n\u001b[0;32m     19\u001b[0m         \u001b[1;32mglobal\u001b[0m \u001b[0missue_data\u001b[0m\u001b[1;33m\u001b[0m\u001b[1;33m\u001b[0m\u001b[0m\n\u001b[0;32m     20\u001b[0m         \u001b[0mprint\u001b[0m\u001b[1;33m(\u001b[0m\u001b[0mfile\u001b[0m\u001b[1;33m.\u001b[0m\u001b[0mread\u001b[0m\u001b[1;33m(\u001b[0m\u001b[1;33m)\u001b[0m\u001b[1;33m)\u001b[0m\u001b[1;33m\u001b[0m\u001b[1;33m\u001b[0m\u001b[0m\n\u001b[1;32m---> 21\u001b[1;33m         \u001b[0missue_data\u001b[0m \u001b[1;33m=\u001b[0m \u001b[0mjson\u001b[0m\u001b[1;33m.\u001b[0m\u001b[0mloads\u001b[0m\u001b[1;33m(\u001b[0m\u001b[0mfile\u001b[0m\u001b[1;33m.\u001b[0m\u001b[0mread\u001b[0m\u001b[1;33m(\u001b[0m\u001b[1;33m)\u001b[0m\u001b[1;33m)\u001b[0m\u001b[1;33m\u001b[0m\u001b[1;33m\u001b[0m\u001b[0m\n\u001b[0m\u001b[0;32m     22\u001b[0m         \u001b[0mprint\u001b[0m\u001b[1;33m(\u001b[0m\u001b[0missue_data\u001b[0m\u001b[1;33m)\u001b[0m\u001b[1;33m\u001b[0m\u001b[1;33m\u001b[0m\u001b[0m\n\u001b[0;32m     23\u001b[0m \u001b[1;33m\u001b[0m\u001b[0m\n",
      "\u001b[1;32m~\\anaconda3\\lib\\json\\__init__.py\u001b[0m in \u001b[0;36mloads\u001b[1;34m(s, encoding, cls, object_hook, parse_float, parse_int, parse_constant, object_pairs_hook, **kw)\u001b[0m\n\u001b[0;32m    346\u001b[0m             \u001b[0mparse_int\u001b[0m \u001b[1;32mis\u001b[0m \u001b[1;32mNone\u001b[0m \u001b[1;32mand\u001b[0m \u001b[0mparse_float\u001b[0m \u001b[1;32mis\u001b[0m \u001b[1;32mNone\u001b[0m \u001b[1;32mand\u001b[0m\u001b[1;33m\u001b[0m\u001b[1;33m\u001b[0m\u001b[0m\n\u001b[0;32m    347\u001b[0m             parse_constant is None and object_pairs_hook is None and not kw):\n\u001b[1;32m--> 348\u001b[1;33m         \u001b[1;32mreturn\u001b[0m \u001b[0m_default_decoder\u001b[0m\u001b[1;33m.\u001b[0m\u001b[0mdecode\u001b[0m\u001b[1;33m(\u001b[0m\u001b[0ms\u001b[0m\u001b[1;33m)\u001b[0m\u001b[1;33m\u001b[0m\u001b[1;33m\u001b[0m\u001b[0m\n\u001b[0m\u001b[0;32m    349\u001b[0m     \u001b[1;32mif\u001b[0m \u001b[0mcls\u001b[0m \u001b[1;32mis\u001b[0m \u001b[1;32mNone\u001b[0m\u001b[1;33m:\u001b[0m\u001b[1;33m\u001b[0m\u001b[1;33m\u001b[0m\u001b[0m\n\u001b[0;32m    350\u001b[0m         \u001b[0mcls\u001b[0m \u001b[1;33m=\u001b[0m \u001b[0mJSONDecoder\u001b[0m\u001b[1;33m\u001b[0m\u001b[1;33m\u001b[0m\u001b[0m\n",
      "\u001b[1;32m~\\anaconda3\\lib\\json\\decoder.py\u001b[0m in \u001b[0;36mdecode\u001b[1;34m(self, s, _w)\u001b[0m\n\u001b[0;32m    335\u001b[0m \u001b[1;33m\u001b[0m\u001b[0m\n\u001b[0;32m    336\u001b[0m         \"\"\"\n\u001b[1;32m--> 337\u001b[1;33m         \u001b[0mobj\u001b[0m\u001b[1;33m,\u001b[0m \u001b[0mend\u001b[0m \u001b[1;33m=\u001b[0m \u001b[0mself\u001b[0m\u001b[1;33m.\u001b[0m\u001b[0mraw_decode\u001b[0m\u001b[1;33m(\u001b[0m\u001b[0ms\u001b[0m\u001b[1;33m,\u001b[0m \u001b[0midx\u001b[0m\u001b[1;33m=\u001b[0m\u001b[0m_w\u001b[0m\u001b[1;33m(\u001b[0m\u001b[0ms\u001b[0m\u001b[1;33m,\u001b[0m \u001b[1;36m0\u001b[0m\u001b[1;33m)\u001b[0m\u001b[1;33m.\u001b[0m\u001b[0mend\u001b[0m\u001b[1;33m(\u001b[0m\u001b[1;33m)\u001b[0m\u001b[1;33m)\u001b[0m\u001b[1;33m\u001b[0m\u001b[1;33m\u001b[0m\u001b[0m\n\u001b[0m\u001b[0;32m    338\u001b[0m         \u001b[0mend\u001b[0m \u001b[1;33m=\u001b[0m \u001b[0m_w\u001b[0m\u001b[1;33m(\u001b[0m\u001b[0ms\u001b[0m\u001b[1;33m,\u001b[0m \u001b[0mend\u001b[0m\u001b[1;33m)\u001b[0m\u001b[1;33m.\u001b[0m\u001b[0mend\u001b[0m\u001b[1;33m(\u001b[0m\u001b[1;33m)\u001b[0m\u001b[1;33m\u001b[0m\u001b[1;33m\u001b[0m\u001b[0m\n\u001b[0;32m    339\u001b[0m         \u001b[1;32mif\u001b[0m \u001b[0mend\u001b[0m \u001b[1;33m!=\u001b[0m \u001b[0mlen\u001b[0m\u001b[1;33m(\u001b[0m\u001b[0ms\u001b[0m\u001b[1;33m)\u001b[0m\u001b[1;33m:\u001b[0m\u001b[1;33m\u001b[0m\u001b[1;33m\u001b[0m\u001b[0m\n",
      "\u001b[1;32m~\\anaconda3\\lib\\json\\decoder.py\u001b[0m in \u001b[0;36mraw_decode\u001b[1;34m(self, s, idx)\u001b[0m\n\u001b[0;32m    353\u001b[0m             \u001b[0mobj\u001b[0m\u001b[1;33m,\u001b[0m \u001b[0mend\u001b[0m \u001b[1;33m=\u001b[0m \u001b[0mself\u001b[0m\u001b[1;33m.\u001b[0m\u001b[0mscan_once\u001b[0m\u001b[1;33m(\u001b[0m\u001b[0ms\u001b[0m\u001b[1;33m,\u001b[0m \u001b[0midx\u001b[0m\u001b[1;33m)\u001b[0m\u001b[1;33m\u001b[0m\u001b[1;33m\u001b[0m\u001b[0m\n\u001b[0;32m    354\u001b[0m         \u001b[1;32mexcept\u001b[0m \u001b[0mStopIteration\u001b[0m \u001b[1;32mas\u001b[0m \u001b[0merr\u001b[0m\u001b[1;33m:\u001b[0m\u001b[1;33m\u001b[0m\u001b[1;33m\u001b[0m\u001b[0m\n\u001b[1;32m--> 355\u001b[1;33m             \u001b[1;32mraise\u001b[0m \u001b[0mJSONDecodeError\u001b[0m\u001b[1;33m(\u001b[0m\u001b[1;34m\"Expecting value\"\u001b[0m\u001b[1;33m,\u001b[0m \u001b[0ms\u001b[0m\u001b[1;33m,\u001b[0m \u001b[0merr\u001b[0m\u001b[1;33m.\u001b[0m\u001b[0mvalue\u001b[0m\u001b[1;33m)\u001b[0m \u001b[1;32mfrom\u001b[0m \u001b[1;32mNone\u001b[0m\u001b[1;33m\u001b[0m\u001b[1;33m\u001b[0m\u001b[0m\n\u001b[0m\u001b[0;32m    356\u001b[0m         \u001b[1;32mreturn\u001b[0m \u001b[0mobj\u001b[0m\u001b[1;33m,\u001b[0m \u001b[0mend\u001b[0m\u001b[1;33m\u001b[0m\u001b[1;33m\u001b[0m\u001b[0m\n",
      "\u001b[1;31mJSONDecodeError\u001b[0m: Expecting value: line 1 column 1 (char 0)"
     ]
    }
   ],
   "source": [
    "readIssueDataBase()"
   ]
  },
  {
   "cell_type": "code",
   "execution_count": null,
   "metadata": {},
   "outputs": [],
   "source": []
  }
 ],
 "metadata": {
  "kernelspec": {
   "display_name": "Python 3",
   "language": "python",
   "name": "python3"
  },
  "language_info": {
   "codemirror_mode": {
    "name": "ipython",
    "version": 3
   },
   "file_extension": ".py",
   "mimetype": "text/x-python",
   "name": "python",
   "nbconvert_exporter": "python",
   "pygments_lexer": "ipython3",
   "version": "3.7.6"
  }
 },
 "nbformat": 4,
 "nbformat_minor": 4
}
